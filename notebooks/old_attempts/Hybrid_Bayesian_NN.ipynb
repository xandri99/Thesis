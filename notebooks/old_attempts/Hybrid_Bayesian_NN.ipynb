{
 "cells": [
  {
   "cell_type": "markdown",
   "metadata": {},
   "source": [
    "Try to implement the paper Hybrid Bayesian Neural Networks"
   ]
  },
  {
   "cell_type": "code",
   "execution_count": 7,
   "metadata": {},
   "outputs": [],
   "source": [
    "# IMPORTS\n",
    "import numpy as np\n",
    "import pandas as pd\n",
    "\n",
    "import tensorflow as tf\n",
    "from tensorflow import keras\n",
    "from tensorflow.keras import layers\n",
    "import tensorflow_probability as tfp"
   ]
  },
  {
   "cell_type": "markdown",
   "metadata": {},
   "source": [
    "Create training and evaluation datasets"
   ]
  },
  {
   "cell_type": "code",
   "execution_count": 8,
   "metadata": {},
   "outputs": [],
   "source": [
    "\n",
    "def get_train_and_test_splits(train_size, batch_size=1):\n",
    "    # Read the dataset from a CSV file\n",
    "    data = pd.read_csv('data/wine_quality/wine_quality.csv')\n",
    "    features = data.drop('quality', axis=1).values\n",
    "    labels = data['quality'].values\n",
    "\n",
    "    # Calculate the number of samples for the training set\n",
    "    n_samples = len(data)\n",
    "    train_size = int(n_samples * train_size)\n",
    "\n",
    "    # Randomly shuffle the data\n",
    "    indices = np.arange(n_samples)\n",
    "    np.random.shuffle(indices)\n",
    "    shuffled_features = features[indices]\n",
    "    shuffled_labels = labels[indices]\n",
    "\n",
    "    # Split the dataset into training and testing sets\n",
    "    X_train = shuffled_features[:train_size]\n",
    "    y_train = shuffled_labels[:train_size]\n",
    "    X_test = shuffled_features[train_size:]\n",
    "    y_test = shuffled_labels[train_size:]\n",
    "\n",
    "    # Convert the data to TensorFlow datasets\n",
    "    train_dataset = tf.data.Dataset.from_tensor_slices((X_train, y_train))\n",
    "    test_dataset = tf.data.Dataset.from_tensor_slices((X_test, y_test))\n",
    "\n",
    "    # Cast the labels to float32 and apply transformations\n",
    "    train_dataset = train_dataset.map(lambda x, y: (x, tf.cast(y, tf.float32)))\n",
    "    test_dataset = test_dataset.map(lambda x, y: (x, tf.cast(y, tf.float32)))\n",
    "    train_dataset = train_dataset.shuffle(buffer_size=train_size).batch(batch_size).cache()\n",
    "    test_dataset = test_dataset.batch(batch_size)\n",
    "\n",
    "    return train_dataset, test_dataset"
   ]
  },
  {
   "cell_type": "markdown",
   "metadata": {},
   "source": [
    "Compile, train, and evaluate the model"
   ]
  },
  {
   "cell_type": "code",
   "execution_count": null,
   "metadata": {},
   "outputs": [],
   "source": [
    "hidden_units = [8, 8]\n",
    "learning_rate = 0.001\n",
    "\n",
    "\n",
    "def run_experiment(model, loss, train_dataset, test_dataset):\n",
    "\n",
    "    model.compile(\n",
    "        optimizer=keras.optimizers.RMSprop(learning_rate=learning_rate),\n",
    "        loss=loss,\n",
    "        metrics=[keras.metrics.RootMeanSquaredError()],\n",
    "    )\n",
    "\n",
    "    print(\"Start training the model...\")\n",
    "    model.fit(train_dataset, epochs=num_epochs, validation_data=test_dataset)\n",
    "    print(\"Model training finished.\")\n",
    "    _, rmse = model.evaluate(train_dataset, verbose=0)\n",
    "    print(f\"Train RMSE: {round(rmse, 3)}\")\n",
    "\n",
    "    print(\"Evaluating model performance...\")\n",
    "    _, rmse = model.evaluate(test_dataset, verbose=0)\n",
    "    print(f\"Test RMSE: {round(rmse, 3)}\")"
   ]
  },
  {
   "cell_type": "markdown",
   "metadata": {},
   "source": [
    "Create model inputs"
   ]
  },
  {
   "cell_type": "code",
   "execution_count": null,
   "metadata": {},
   "outputs": [],
   "source": [
    "FEATURE_NAMES = [\n",
    "    \"fixed acidity\",\n",
    "    \"volatile acidity\",\n",
    "    \"citric acid\",\n",
    "    \"residual sugar\",\n",
    "    \"chlorides\",\n",
    "    \"free sulfur dioxide\",\n",
    "    \"total sulfur dioxide\",\n",
    "    \"density\",\n",
    "    \"pH\",\n",
    "    \"sulphates\",\n",
    "    \"alcohol\",\n",
    "]\n",
    "\n",
    "\n",
    "def create_model_inputs():\n",
    "    inputs = {}\n",
    "    for feature_name in FEATURE_NAMES:\n",
    "        inputs[feature_name] = layers.Input(\n",
    "            name=feature_name, shape=(1,), dtype=tf.float32\n",
    "        )\n",
    "    return inputs"
   ]
  },
  {
   "cell_type": "markdown",
   "metadata": {},
   "source": [
    "Experiment 1: standard neural network"
   ]
  },
  {
   "cell_type": "code",
   "execution_count": null,
   "metadata": {},
   "outputs": [],
   "source": [
    "def create_baseline_model():\n",
    "    inputs = create_model_inputs()\n",
    "    input_values = [value for _, value in sorted(inputs.items())]\n",
    "    features = keras.layers.concatenate(input_values)\n",
    "    features = layers.BatchNormalization()(features)\n",
    "\n",
    "    # Create hidden layers with deterministic weights using the Dense layer.\n",
    "    for units in hidden_units:\n",
    "        features = layers.Dense(units, activation=\"sigmoid\")(features)\n",
    "    # The output is deterministic: a single point estimate.\n",
    "    outputs = layers.Dense(units=1)(features)\n",
    "\n",
    "    model = keras.Model(inputs=inputs, outputs=outputs)\n",
    "    return model\n",
    "\n",
    "\n",
    "dataset_size = 4898\n",
    "batch_size = 256\n",
    "train_size = int(dataset_size * 0.85)\n",
    "train_dataset, test_dataset = get_train_and_test_splits(train_size, batch_size)\n",
    "\n",
    "\n",
    "num_epochs = 100\n",
    "mse_loss = keras.losses.MeanSquaredError()\n",
    "baseline_model = create_baseline_model()\n",
    "run_experiment(baseline_model, mse_loss, train_dataset, test_dataset)"
   ]
  },
  {
   "cell_type": "code",
   "execution_count": null,
   "metadata": {},
   "outputs": [],
   "source": [
    "sample = 10\n",
    "examples, targets = list(test_dataset.unbatch().shuffle(batch_size * 10).batch(sample))[\n",
    "    0\n",
    "]\n",
    "\n",
    "predicted = baseline_model(examples).numpy()\n",
    "for idx in range(sample):\n",
    "    print(f\"Predicted: {round(float(predicted[idx][0]), 1)} - Actual: {targets[idx]}\")"
   ]
  }
 ],
 "metadata": {
  "interpreter": {
   "hash": "f636ad594cb2955151a95f1aefb2fabd4cc0eac7c26b2c0dc1dfdeea348a4e0e"
  },
  "kernelspec": {
   "display_name": "Python 3.9.7 64-bit (conda)",
   "language": "python",
   "name": "python3"
  },
  "language_info": {
   "codemirror_mode": {
    "name": "ipython",
    "version": 3
   },
   "file_extension": ".py",
   "mimetype": "text/x-python",
   "name": "python",
   "nbconvert_exporter": "python",
   "pygments_lexer": "ipython3",
   "version": "3.9.18"
  },
  "orig_nbformat": 4
 },
 "nbformat": 4,
 "nbformat_minor": 2
}
