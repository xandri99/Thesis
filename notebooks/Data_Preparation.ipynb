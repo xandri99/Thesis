{
 "cells": [
  {
   "cell_type": "code",
   "execution_count": null,
   "metadata": {},
   "outputs": [],
   "source": [
    "# IMPORTS\n",
    "import pandas as pd\n",
    "import numpy as np\n",
    "import os"
   ]
  },
  {
   "cell_type": "markdown",
   "metadata": {},
   "source": [
    "Fragment of code to parse the CRC.SW.mRNA.symbol.count.txt file, correct its formatting, and save it as a csv that can be read straight in the analysis."
   ]
  },
  {
   "cell_type": "code",
   "execution_count": null,
   "metadata": {},
   "outputs": [],
   "source": [
    "## LOAD TRANSCRIPTOMICS DATA AND DO BASIC FORMATTING.\n",
    "## GENERATE CSV FOR FURTHER ANALYSIS.\n",
    "\n",
    "## Move out of the notebook folder to access datasets\n",
    "working_dir = os.getcwd()\n",
    "working_dir = working_dir.strip('notebooks')\n",
    "\n",
    "# Prepare all the directories and files\n",
    "data_dir = working_dir + 'data/PROTECTED_DATA/BGI_Expression_Data/'\n",
    "mrna_count = data_dir + 'CRC.SW.mRNA.symbol.count.txt'\n",
    "\n",
    "mrna_count_raw = pd.read_csv(mrna_count, sep=\"\\t\", index_col=0)\n",
    "mrna_count_raw = mrna_count_raw.T\n",
    "mrna_count_raw.reset_index(inplace=True)\n",
    "mrna_count_raw.rename(columns={'index':'Sample_ID'}, inplace=True)\n",
    "\n",
    "\n",
    "## Save the dataset as a file with correct formating\n",
    "correctformating = data_dir + 'CRC.SW.mRNA.symbol.count.csv'\n",
    "mrna_count_raw.to_csv(correctformating, sep=',', index=False) "
   ]
  },
  {
   "cell_type": "markdown",
   "metadata": {},
   "source": [
    "Read and extract a subset of traits from the key-table, in order to select what clinical traits we want to study."
   ]
  },
  {
   "cell_type": "code",
   "execution_count": null,
   "metadata": {},
   "outputs": [],
   "source": [
    "## LOAD KEY-DATA AND SELECT CLINICAL TRAITS\n",
    "\n",
    "## Move out of the notebook folder to access datasets\n",
    "working_dir = os.getcwd()\n",
    "working_dir = working_dir.strip('notebooks')\n",
    "\n",
    "# Prepare all the directories and files\n",
    "data_dir = working_dir + 'data/PROTECTED_DATA/BGI_Expression_Data/'\n",
    "key_table_dir = data_dir + 'Supplementary_Table_01.xlsx'\n",
    "\n",
    "\n",
    "## Load the datasets and fix formatting\n",
    "key_table = pd.read_excel(key_table_dir, header=2)\n",
    "key_table.head()\n",
    "\n",
    "## Subset the clincal traits we want to study\n",
    "key_table_subset_tumor = key_table[['RNA Tumor Sample Barcode', 'Gender', 'Primary Site Disease', \n",
    "                              'Histology Subtype', 'Tumour Stage']]\n",
    "key_table_subset_tumor = key_table_subset_tumor.rename(columns={'RNA Tumor Sample Barcode':'Sample_ID'})\n",
    "\n",
    "\n",
    "key_table_subset_normal = key_table[['RNA Normal Sample Barcode', 'Gender', 'Primary Site Disease', \n",
    "                              'Histology Subtype', 'Tumour Stage']]\n",
    "key_table_subset_normal = key_table_subset_normal[key_table_subset_normal['RNA Normal Sample Barcode'] != 'Not_Applicable']  # We delete all the rows that are actually only Tumor\n",
    "key_table_subset_normal = key_table_subset_normal.rename(columns={'RNA Normal Sample Barcode':'Sample_ID'})\n",
    "\n",
    "\n",
    "key_table_subset = pd.concat([key_table_subset_tumor, key_table_subset_normal])\n",
    "\n",
    "\n",
    "## Save the dataset as a file with correct formating\n",
    "correctformating = data_dir + 'Sample_Info_Selection.csv'\n",
    "key_table_subset.to_csv(correctformating, sep=',', index=False, encoding='utf-8')\n",
    "\n",
    "key_table_subset"
   ]
  },
  {
   "cell_type": "markdown",
   "metadata": {},
   "source": [
    "CHECK RANGE OF VALUES PER VARIABLE TO ASSIGN COLORS IN WGCNA"
   ]
  },
  {
   "cell_type": "code",
   "execution_count": null,
   "metadata": {},
   "outputs": [],
   "source": [
    "## Get the values of each trait for coloring in WGCNA analysis\n",
    "sample_info_selection = data_dir + 'Sample_Info_Selection.csv'\n",
    "sample_info_tes = pd.read_csv(sample_info_selection)\n",
    "\n",
    "# Use set() to eliminate duplicate values in column 'C'\n",
    "unique_values_set = set(sample_info_tes['Tumour Stage'])\n",
    " \n",
    "# Print the unique values\n",
    "print(unique_values_set)"
   ]
  },
  {
   "cell_type": "markdown",
   "metadata": {},
   "source": [
    "ANALYSIS OF THE INEQUAL NUMBER OF SAMPLES IN DATASET AND EXCEL\n",
    "To decide if all (tumor and normal) must beincluded, or if they are the same"
   ]
  },
  {
   "cell_type": "code",
   "execution_count": null,
   "metadata": {},
   "outputs": [],
   "source": [
    "### LOADING REAL UNPUBLISHED DATA    -     NO PUSHING FOR THE RESULTS\n",
    "\n",
    "## Move out of the notebook folder to access datasets\n",
    "working_dir = os.getcwd()\n",
    "working_dir = working_dir.strip('notebooks')\n",
    "\n",
    "# Prepare all the files for loading\n",
    "data_dir = working_dir + 'data/PROTECTED_DATA/BGI_Expression_Data/'\n",
    "mrna_count = data_dir + 'CRC.SW.mRNA.symbol.count.csv'\n",
    "sample_info_selection = data_dir + 'Sample_Info_Selection.csv'"
   ]
  },
  {
   "cell_type": "code",
   "execution_count": null,
   "metadata": {},
   "outputs": [],
   "source": [
    "genee = pd.read_csv(mrna_count)  \n",
    "genee"
   ]
  },
  {
   "cell_type": "code",
   "execution_count": null,
   "metadata": {},
   "outputs": [],
   "source": [
    "test = pd.read_csv(sample_info_selection)  \n",
    "test"
   ]
  },
  {
   "cell_type": "code",
   "execution_count": null,
   "metadata": {},
   "outputs": [],
   "source": [
    "## Check if all samples .T and .N need to be included separetly\n",
    "\n",
    "def find_rows_by_value(df, column_name, value1, value2):\n",
    "    # Find rows with the specified values in the given column\n",
    "    rows = df[df[column_name].isin([value1, value2])]\n",
    "    \n",
    "    # Check if we found exactly two rows\n",
    "    if len(rows) != 2:\n",
    "        return \"Did not find exactly two rows with the specified values\"\n",
    "    \n",
    "    # Proceed to compare these two rows\n",
    "    return compare_rows_directly(rows.iloc[0], rows.iloc[1])\n",
    "\n",
    "def compare_rows_directly(row1, row2):\n",
    "    # Initialize an empty dictionary to hold columns with different values\n",
    "    differences = {}\n",
    "    \n",
    "    # Compare each column in the two rows\n",
    "    for column in row1.index:  # row1.index contains the column names\n",
    "        if row1[column] != row2[column]:\n",
    "            # If values are different, add them to the differences dictionary\n",
    "            differences[column] = (row1[column], row2[column])\n",
    "    \n",
    "    # Return True if no differences, otherwise return the differences\n",
    "    return True if not differences else differences\n",
    "\n",
    "\n",
    "\n",
    "# Use set() to eliminate duplicate values in column 'C'\n",
    "unique_values_dataset = set(genee['Sample_ID'])\n",
    "unique_values_excel = set(test['Sample_ID'])\n",
    "\n",
    " \n",
    "# Compare the samples that are from healthy and cancer tissue from the same pacients, to decide if they are worth including\n",
    "print(list(unique_values_dataset - unique_values_excel))\n",
    "\n",
    "result = find_rows_by_value(genee, 'Sample_ID', 'CRC.SW.U3032.N', 'CRC.SW.U3032.T')\n",
    "print(result)"
   ]
  }
 ],
 "metadata": {
  "kernelspec": {
   "display_name": "WGCNA_approach",
   "language": "python",
   "name": "python3"
  },
  "language_info": {
   "codemirror_mode": {
    "name": "ipython",
    "version": 3
   },
   "file_extension": ".py",
   "mimetype": "text/x-python",
   "name": "python",
   "nbconvert_exporter": "python",
   "pygments_lexer": "ipython3",
   "version": "3.11.7"
  }
 },
 "nbformat": 4,
 "nbformat_minor": 2
}
