{
 "cells": [
  {
   "cell_type": "markdown",
   "metadata": {},
   "source": [
    "Notebook to run the WGCNA calling for the functions from the py file. To implement once the method is functioning correctly"
   ]
  },
  {
   "cell_type": "code",
   "execution_count": null,
   "metadata": {},
   "outputs": [],
   "source": [
    "### GENERAL CONFIGURATION FOR THE ANALYSIS:\n",
    "# Imports\n",
    "import os\n",
    "import pandas as pd\n",
    "import numpy as np\n",
    "import sys\n",
    "import matplotlib.pyplot as plt\n",
    "import seaborn as sns\n",
    "\n",
    "\n",
    "sys.path.append(os.getcwd().strip('notebooks') + 'src/')\n",
    "import WGCNA_functions as wgcnax\n",
    "\n",
    "\n",
    "\n",
    "# Colors for the terminal outputs\n",
    "ENDC = \"\\033[0m\"\n",
    "BOLD = \"\\033[1m\"\n",
    "UNDERLINE = \"\\033[4m\"\n",
    "\n",
    "OKBLUE = \"\\033[94m\"\n",
    "OKGREEN = \"\\033[92m\"\n",
    "WARNING = \"\\033[93m\"\n",
    "FAIL = \"\\033[91m\"\n",
    "\n",
    "# Settings for printing dataframes\n",
    "pd.set_option('display.max_columns', 10)\n",
    "pd.set_option('display.max_rows', 20)\n",
    "pd.set_option('display.width', 1000)\n",
    "\n",
    "# SETTINGS FOR PLOTTING FIGURES\n",
    "want_plots = True\n"
   ]
  },
  {
   "cell_type": "code",
   "execution_count": null,
   "metadata": {},
   "outputs": [],
   "source": [
    "### LOADING REAL UNPUBLISHED DATA    -     NO PUSHING FOR THE RESULTS\n",
    "\n",
    "# Move out of the notebook folder to access datasets\n",
    "working_dir = os.getcwd()\n",
    "working_dir = working_dir.strip('notebooks')\n",
    "data_dir = working_dir + 'data/PROTECTED_DATA/BGI_Expression_Data/'\n",
    "\n",
    "\n",
    "## Load the dataset\n",
    "# Transcriptomics Data \n",
    "transcriptomics_TPM_dataset_dir = data_dir + 'CRC.SW.mRNA.symbol.TPM_NOnormal.csv'  \n",
    "transcriptomics_dataset = pd.read_csv(transcriptomics_TPM_dataset_dir, index_col=0)\n",
    "\n",
    "# Sample info and Clinical Traits Data\n",
    "sample_info_traits_dir = data_dir + 'All_Traits_Without_Normal.csv' # Using only tumor samples\n",
    "trait_dataset = pd.read_csv(sample_info_traits_dir, index_col=0)\n",
    "\n",
    "sample_info_traits_dir = data_dir + 'Survival_Without_Normal.csv' # Using only tumor samples\n",
    "survival_dataset = pd.read_csv(sample_info_traits_dir, index_col=0)\n",
    "\n",
    "\n",
    "# Figures Saving output dir\n",
    "figures_dir = working_dir + 'results/testing/'\n",
    "\n",
    "# Check if the directory exists, and if not, create it\n",
    "if not os.path.exists(figures_dir):\n",
    "    os.makedirs(figures_dir)\n",
    "    print(f\"{BOLD}{OKBLUE}Creating directory to save results and figures...{ENDC}\")\n",
    "    \n",
    "\n",
    "## Make a subset to save RAM\n",
    "subset_dataset_size = 200\n",
    "transcriptomics_dataset = transcriptomics_dataset.iloc[:, :subset_dataset_size] \n",
    "\n",
    "# RAM usage estimation in GB\n",
    "RAM_estimate = (subset_dataset_size * subset_dataset_size * 8) / (1024**3)\n",
    "print(f\"The aproximated RAM to analyse this size of dataset is: {RAM_estimate} GB\")\n"
   ]
  },
  {
   "cell_type": "code",
   "execution_count": null,
   "metadata": {},
   "outputs": [],
   "source": [
    "### Step 1: Data Preprocessing (Normalization)\n",
    "\n",
    "\n",
    "# Visualize original and preprocessed data with PCA\n",
    "# Create a 2x2 subplot grid\n",
    "fig, axs = plt.subplots(2, 2, figsize=(14, 12))\n",
    "\n",
    "# Plot each PCA visualization\n",
    "expression_th = 1\n",
    "\n",
    "wgcnax.plot_pca(transcriptomics_dataset, title='PCA of Original Data', ax=axs[0, 0])\n",
    "wgcnax.plot_pca(wgcnax.simple_preprocess(transcriptomics_dataset), title='PCA of Preprocessed with simple_preprocess', ax=axs[0, 1])\n",
    "wgcnax.plot_pca(wgcnax.preprocess_TPM(transcriptomics_dataset, expression_th), title='PCA of Preprocessed with preprocess_TPM', ax=axs[1, 0])\n",
    "datasetttt, traitsss = wgcnax.preprocess_TPM_outlier_deletion(transcriptomics_dataset, expression_th, trait_dataset)\n",
    "wgcnax.plot_pca(datasetttt, title='PCA of Preprocessed with preprocess_TPM_outlier_deletion', ax=axs[1, 1])\n",
    "plt.tight_layout()\n",
    "plt.show()\n",
    "\n",
    "\n",
    "\n",
    "\n",
    "# Pick the preprocessing to actually use:\n",
    "transcriptomics_dataset_filtered, trait_dataset_filtered = wgcnax.preprocess_TPM_outlier_deletion(transcriptomics_dataset, expression_th, trait_dataset)\n",
    "\n",
    "\n",
    "print(f\"{BOLD}{OKBLUE}Done...{ENDC}\")"
   ]
  },
  {
   "cell_type": "code",
   "execution_count": null,
   "metadata": {},
   "outputs": [],
   "source": [
    "### Step 2: Constructing a Co-expression Similarity Matrix (Correlation Matrix)\n",
    "\n",
    "correlation_matrix_np = wgcnax.correlation_matrix(transcriptomics_dataset_filtered, want_plots, figures_dir)\n",
    "\n",
    "wgcnax.matrix_np_check(correlation_matrix_np, 1, -1, 1)"
   ]
  },
  {
   "cell_type": "code",
   "execution_count": null,
   "metadata": {},
   "outputs": [],
   "source": [
    "### Step 3: Transforming into an adjacency matrix using a soft threshold power\n",
    "\n",
    "## Parameters for execution.\n",
    "RsquaredCut = 0.8\n",
    "MeanCut = 100\n",
    "block_size_scalefit = 10\n",
    "adjacency_type = \"unsigned\"\n",
    "\n",
    "\n",
    "# Get the optimal power for the adjacency matrix (fitting to a power-law distritbution)\n",
    "optimal_power = wgcnax.pickSoftThreshold(correlation_matrix_np, transcriptomics_dataset_filtered, RsquaredCut, MeanCut, want_plots, figures_dir, block_size_scalefit)\n",
    "\n",
    "# Get the adjacency matrix\n",
    "adjacency_matrix_np = wgcnax.adjacencyM_from_correlationM(correlation_matrix_np, optimal_power, adjacency_type, want_plots, figures_dir)\n",
    "wgcnax.matrix_np_check(adjacency_matrix_np, 1, 0, 1)"
   ]
  },
  {
   "cell_type": "code",
   "execution_count": null,
   "metadata": {},
   "outputs": [],
   "source": [
    "### Step 4: Converting adjacency matrix into a topological overlap matrix (TOM)\n",
    "\n",
    "# TOMDenom must be either 'min' or 'mean'. More explanation in the function itself\n",
    "TOMDenom = \"mean\"\n",
    "\n",
    "# Get the TOM matrix\n",
    "simTOM_np = wgcnax.calculate_tom(adjacency_matrix_np, TOMDenom, adjacency_type, want_plots, figures_dir)\n",
    "dissTOM_np = 1 - simTOM_np\n",
    "wgcnax.matrix_np_check(simTOM_np, 1, 0, 1)"
   ]
  },
  {
   "cell_type": "code",
   "execution_count": null,
   "metadata": {},
   "outputs": [],
   "source": [
    "### Step 5: Hierarchical clustering\n",
    "linkage_matrix = wgcnax.hierarchical_clustering(dissTOM_np, want_plots, figures_dir)"
   ]
  },
  {
   "cell_type": "code",
   "execution_count": null,
   "metadata": {},
   "outputs": [],
   "source": [
    "### Step 6: Module identification\n",
    "\n",
    "#Parameters\n",
    "min_memb_cluster = 10\n",
    "height_percentile = 80  # Use the percentile of heights to set sensitivity\n",
    "module_assignment, cut_height = wgcnax.identify_modules_simple_version(linkage_matrix, height_percentile, min_memb_cluster)\n",
    "\n",
    "# Add the Gene name to the clustering table\n",
    "module_assignment.insert(0, 'Gene Name', list(transcriptomics_dataset_filtered))\n",
    "\n",
    "# Plot visualization of clusters\n",
    "wgcnax.plot_module_distribution(module_assignment)\n"
   ]
  },
  {
   "cell_type": "code",
   "execution_count": null,
   "metadata": {},
   "outputs": [],
   "source": [
    "### Step 6: Module identification - SECOND METHOD\n",
    "\n",
    "module_assignment_sec, cut_height = wgcnax.identify_modules_auto_deep_split(linkage_matrix, dissTOM_np, min_memb_cluster)\n",
    "\n",
    "# Add the Gene name to the clustering table\n",
    "module_assignment_sec.insert(0, 'Gene Name', list(transcriptomics_dataset_filtered))\n",
    "\n",
    "# Plot visualization of clusters\n",
    "wgcnax.plot_module_distribution(module_assignment_sec)\n"
   ]
  },
  {
   "cell_type": "code",
   "execution_count": null,
   "metadata": {},
   "outputs": [],
   "source": [
    "### Step 7: Calculate EigenGenes for all identified Modules\n",
    "\n",
    "## Prepare the dataframe so that it contains all the info we need to continue\n",
    "expression_profiles = wgcnax.expression_profile_for_cluster(module_assignment, transcriptomics_dataset_filtered)\n",
    "\n",
    "## Call the function to calculate the eigengenes\n",
    "eigen_genes = wgcnax.calculate_eigen_genes(expression_profiles, want_plots, figures_dir)"
   ]
  },
  {
   "cell_type": "code",
   "execution_count": null,
   "metadata": {},
   "outputs": [],
   "source": [
    "### Step 8: Module-Trait Relationship\n",
    "# Run the Analysis, encoding the variables as categorical, and calculating correlation and p-value\n",
    "\n",
    "# THIS USES THE NEW ENCODING AND CORRELATION FUNCTIONS\n",
    "print(f\"{BOLD}{OKBLUE}\\n\\nStep 8{ENDC}\")\n",
    "trait_columns = list(trait_dataset_filtered.columns[1:] )\n",
    "correlations, p_values = wgcnax.eigen_trait_correlations_DC(eigen_genes, trait_dataset_filtered, trait_columns)\n",
    "\n",
    "## Plot the Heatmap for the module-trait relationship\n",
    "wgcnax.correlation_pvalue_heatmap(correlations, p_values, figures_dir)"
   ]
  },
  {
   "cell_type": "code",
   "execution_count": null,
   "metadata": {},
   "outputs": [],
   "source": [
    "### Step 9: Survival plot\n",
    "\n",
    "# Get the modules that show high correlations\n",
    "corr_th = 0.4\n",
    "wgcnax.survival_probability(correlations, corr_th, expression_profiles, survival_dataset, figures_dir)"
   ]
  }
 ],
 "metadata": {
  "kernelspec": {
   "display_name": "WGCNA_approach",
   "language": "python",
   "name": "python3"
  },
  "language_info": {
   "codemirror_mode": {
    "name": "ipython",
    "version": 3
   },
   "file_extension": ".py",
   "mimetype": "text/x-python",
   "name": "python",
   "nbconvert_exporter": "python",
   "pygments_lexer": "ipython3",
   "version": "3.11.7"
  }
 },
 "nbformat": 4,
 "nbformat_minor": 2
}
