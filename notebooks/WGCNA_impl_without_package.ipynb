{
 "cells": [
  {
   "cell_type": "code",
   "execution_count": 6,
   "metadata": {},
   "outputs": [],
   "source": [
    "# IMPORTS\n",
    "import pandas as pd\n",
    "import matplotlib.pyplot as plt\n",
    "import seaborn as sns\n",
    "import numpy as np\n",
    "import os\n",
    "from scipy.cluster.hierarchy import linkage, cut_tree, dendrogram, fcluster\n",
    "from scipy.spatial.distance import pdist, squareform"
   ]
  },
  {
   "cell_type": "code",
   "execution_count": 2,
   "metadata": {},
   "outputs": [],
   "source": [
    "# bcolors\n",
    "HEADER = \"\\033[95m\"\n",
    "OKBLUE = \"\\033[94m\"\n",
    "OKCYAN = \"\\033[96m\"\n",
    "OKGREEN = \"\\033[92m\"\n",
    "WARNING = \"\\033[93m\"\n",
    "FAIL = \"\\033[91m\"\n",
    "ENDC = \"\\033[0m\"\n",
    "BOLD = \"\\033[1m\"\n",
    "UNDERLINE = \"\\033[4m\""
   ]
  },
  {
   "cell_type": "code",
   "execution_count": 5,
   "metadata": {},
   "outputs": [],
   "source": [
    "## Move out of the notebook folder to access datasets\n",
    "working_dir = os.getcwd()\n",
    "working_dir = working_dir.strip('notebooks')\n",
    "\n",
    "\n",
    "## Load the dataset\n",
    "mrna_count_dir = working_dir + 'data/5xFAD_paper/expressionList.csv'\n",
    "mrna_count = pd.read_csv(mrna_count_dir)\n",
    "\n",
    "sample_info_selection_dir = working_dir + 'data/5xFAD_paper/sampleInfo.csv'\n",
    "sample_info_selection = pd.read_csv(sample_info_selection_dir)\n",
    "\n",
    "figures_dir = working_dir + 'results/WGCNA_figures_own'"
   ]
  },
  {
   "cell_type": "code",
   "execution_count": 8,
   "metadata": {},
   "outputs": [
    {
     "name": "stdout",
     "output_type": "stream",
     "text": [
      "\u001b[1m\u001b[94mPre-processing...\u001b[0m\n"
     ]
    }
   ],
   "source": [
    "## PREPROCESS\n",
    "## Preprocessing: removing obvious outlier on genes and samples\n",
    "\n",
    "print(f\"{BOLD}{OKBLUE}Pre-processing...{ENDC}\")\n",
    "\n",
    "# Prepare and clean data\n",
    "# Remove genes expressed under this cutoff number along samples\n",
    "\n",
    "mrna_count_filtered = mrna_count\n"
   ]
  },
  {
   "cell_type": "code",
   "execution_count": 9,
   "metadata": {},
   "outputs": [
    {
     "ename": "ValueError",
     "evalue": "could not convert string to float: 'X4mo_cortex_F_5xFADHEMI_430'",
     "output_type": "error",
     "traceback": [
      "\u001b[0;31m---------------------------------------------------------------------------\u001b[0m",
      "\u001b[0;31mValueError\u001b[0m                                Traceback (most recent call last)",
      "Cell \u001b[0;32mIn[9], line 7\u001b[0m\n\u001b[1;32m      4\u001b[0m METHODS \u001b[38;5;241m=\u001b[39m [\u001b[38;5;124m\"\u001b[39m\u001b[38;5;124msingle\u001b[39m\u001b[38;5;124m\"\u001b[39m, \u001b[38;5;124m\"\u001b[39m\u001b[38;5;124mcomplete\u001b[39m\u001b[38;5;124m\"\u001b[39m, \u001b[38;5;124m\"\u001b[39m\u001b[38;5;124maverage\u001b[39m\u001b[38;5;124m\"\u001b[39m, \u001b[38;5;124m\"\u001b[39m\u001b[38;5;124mweighted\u001b[39m\u001b[38;5;124m\"\u001b[39m, \u001b[38;5;124m\"\u001b[39m\u001b[38;5;124mcentroid\u001b[39m\u001b[38;5;124m\"\u001b[39m]\n\u001b[1;32m      5\u001b[0m method \u001b[38;5;241m=\u001b[39m \u001b[38;5;124m\"\u001b[39m\u001b[38;5;124maverage\u001b[39m\u001b[38;5;124m\"\u001b[39m  \u001b[38;5;66;03m# from the pyWGCNA\u001b[39;00m\n\u001b[0;32m----> 7\u001b[0m distances \u001b[38;5;241m=\u001b[39m \u001b[43mpdist\u001b[49m\u001b[43m(\u001b[49m\u001b[43mmrna_count_filtered\u001b[49m\u001b[38;5;241;43m.\u001b[39;49m\u001b[43mT\u001b[49m\u001b[43m,\u001b[49m\u001b[43m \u001b[49m\u001b[43mmetric\u001b[49m\u001b[38;5;241;43m=\u001b[39;49m\u001b[38;5;124;43m'\u001b[39;49m\u001b[38;5;124;43mcorrelation\u001b[39;49m\u001b[38;5;124;43m'\u001b[39;49m\u001b[43m)\u001b[49m\n\u001b[1;32m      8\u001b[0m dendrogram \u001b[38;5;241m=\u001b[39m linkage(distances, method\u001b[38;5;241m=\u001b[39mmethod)\n",
      "File \u001b[0;32m~/anaconda3/envs/WGCNA_test1/lib/python3.11/site-packages/scipy/spatial/distance.py:2232\u001b[0m, in \u001b[0;36mpdist\u001b[0;34m(X, metric, out, **kwargs)\u001b[0m\n\u001b[1;32m   2230\u001b[0m \u001b[38;5;28;01mif\u001b[39;00m metric_info \u001b[38;5;129;01mis\u001b[39;00m \u001b[38;5;129;01mnot\u001b[39;00m \u001b[38;5;28;01mNone\u001b[39;00m:\n\u001b[1;32m   2231\u001b[0m     pdist_fn \u001b[38;5;241m=\u001b[39m metric_info\u001b[38;5;241m.\u001b[39mpdist_func\n\u001b[0;32m-> 2232\u001b[0m     \u001b[38;5;28;01mreturn\u001b[39;00m \u001b[43mpdist_fn\u001b[49m\u001b[43m(\u001b[49m\u001b[43mX\u001b[49m\u001b[43m,\u001b[49m\u001b[43m \u001b[49m\u001b[43mout\u001b[49m\u001b[38;5;241;43m=\u001b[39;49m\u001b[43mout\u001b[49m\u001b[43m,\u001b[49m\u001b[43m \u001b[49m\u001b[38;5;241;43m*\u001b[39;49m\u001b[38;5;241;43m*\u001b[39;49m\u001b[43mkwargs\u001b[49m\u001b[43m)\u001b[49m\n\u001b[1;32m   2233\u001b[0m \u001b[38;5;28;01melif\u001b[39;00m mstr\u001b[38;5;241m.\u001b[39mstartswith(\u001b[38;5;124m\"\u001b[39m\u001b[38;5;124mtest_\u001b[39m\u001b[38;5;124m\"\u001b[39m):\n\u001b[1;32m   2234\u001b[0m     metric_info \u001b[38;5;241m=\u001b[39m _TEST_METRICS\u001b[38;5;241m.\u001b[39mget(mstr, \u001b[38;5;28;01mNone\u001b[39;00m)\n",
      "File \u001b[0;32m~/anaconda3/envs/WGCNA_test1/lib/python3.11/site-packages/scipy/spatial/distance.py:1678\u001b[0m, in \u001b[0;36mPDistMetricWrapper.__call__\u001b[0;34m(self, X, out, **kwargs)\u001b[0m\n\u001b[1;32m   1676\u001b[0m metric_name \u001b[38;5;241m=\u001b[39m \u001b[38;5;28mself\u001b[39m\u001b[38;5;241m.\u001b[39mmetric_name\n\u001b[1;32m   1677\u001b[0m metric_info \u001b[38;5;241m=\u001b[39m _METRICS[metric_name]\n\u001b[0;32m-> 1678\u001b[0m X, typ, kwargs \u001b[38;5;241m=\u001b[39m \u001b[43m_validate_pdist_input\u001b[49m\u001b[43m(\u001b[49m\n\u001b[1;32m   1679\u001b[0m \u001b[43m    \u001b[49m\u001b[43mX\u001b[49m\u001b[43m,\u001b[49m\u001b[43m \u001b[49m\u001b[43mm\u001b[49m\u001b[43m,\u001b[49m\u001b[43m \u001b[49m\u001b[43mn\u001b[49m\u001b[43m,\u001b[49m\u001b[43m \u001b[49m\u001b[43mmetric_info\u001b[49m\u001b[43m,\u001b[49m\u001b[43m \u001b[49m\u001b[38;5;241;43m*\u001b[39;49m\u001b[38;5;241;43m*\u001b[39;49m\u001b[43mkwargs\u001b[49m\u001b[43m)\u001b[49m\n\u001b[1;32m   1680\u001b[0m out_size \u001b[38;5;241m=\u001b[39m (m \u001b[38;5;241m*\u001b[39m (m \u001b[38;5;241m-\u001b[39m \u001b[38;5;241m1\u001b[39m)) \u001b[38;5;241m/\u001b[39m\u001b[38;5;241m/\u001b[39m \u001b[38;5;241m2\u001b[39m\n\u001b[1;32m   1681\u001b[0m w \u001b[38;5;241m=\u001b[39m kwargs\u001b[38;5;241m.\u001b[39mpop(\u001b[38;5;124m'\u001b[39m\u001b[38;5;124mw\u001b[39m\u001b[38;5;124m'\u001b[39m, \u001b[38;5;28;01mNone\u001b[39;00m)\n",
      "File \u001b[0;32m~/anaconda3/envs/WGCNA_test1/lib/python3.11/site-packages/scipy/spatial/distance.py:269\u001b[0m, in \u001b[0;36m_validate_pdist_input\u001b[0;34m(X, m, n, metric_info, **kwargs)\u001b[0m\n\u001b[1;32m    267\u001b[0m typ \u001b[38;5;241m=\u001b[39m types[types\u001b[38;5;241m.\u001b[39mindex(X\u001b[38;5;241m.\u001b[39mdtype)] \u001b[38;5;28;01mif\u001b[39;00m X\u001b[38;5;241m.\u001b[39mdtype \u001b[38;5;129;01min\u001b[39;00m types \u001b[38;5;28;01melse\u001b[39;00m types[\u001b[38;5;241m0\u001b[39m]\n\u001b[1;32m    268\u001b[0m \u001b[38;5;66;03m# validate data\u001b[39;00m\n\u001b[0;32m--> 269\u001b[0m X \u001b[38;5;241m=\u001b[39m \u001b[43m_convert_to_type\u001b[49m\u001b[43m(\u001b[49m\u001b[43mX\u001b[49m\u001b[43m,\u001b[49m\u001b[43m \u001b[49m\u001b[43mout_type\u001b[49m\u001b[38;5;241;43m=\u001b[39;49m\u001b[43mtyp\u001b[49m\u001b[43m)\u001b[49m\n\u001b[1;32m    271\u001b[0m \u001b[38;5;66;03m# validate kwargs\u001b[39;00m\n\u001b[1;32m    272\u001b[0m _validate_kwargs \u001b[38;5;241m=\u001b[39m metric_info\u001b[38;5;241m.\u001b[39mvalidator\n",
      "File \u001b[0;32m~/anaconda3/envs/WGCNA_test1/lib/python3.11/site-packages/scipy/spatial/distance.py:145\u001b[0m, in \u001b[0;36m_convert_to_type\u001b[0;34m(X, out_type)\u001b[0m\n\u001b[1;32m    144\u001b[0m \u001b[38;5;28;01mdef\u001b[39;00m \u001b[38;5;21m_convert_to_type\u001b[39m(X, out_type):\n\u001b[0;32m--> 145\u001b[0m     \u001b[38;5;28;01mreturn\u001b[39;00m \u001b[43mnp\u001b[49m\u001b[38;5;241;43m.\u001b[39;49m\u001b[43mascontiguousarray\u001b[49m\u001b[43m(\u001b[49m\u001b[43mX\u001b[49m\u001b[43m,\u001b[49m\u001b[43m \u001b[49m\u001b[43mdtype\u001b[49m\u001b[38;5;241;43m=\u001b[39;49m\u001b[43mout_type\u001b[49m\u001b[43m)\u001b[49m\n",
      "\u001b[0;31mValueError\u001b[0m: could not convert string to float: 'X4mo_cortex_F_5xFADHEMI_430'"
     ]
    }
   ],
   "source": [
    "## CLUSTERING\n",
    "## Hierarchical cluster analysis on a set of dissimilarities and methods for analyzing it.\n",
    "\n",
    "METHODS = [\"single\", \"complete\", \"average\", \"weighted\", \"centroid\"]\n",
    "method = \"average\"  # from the pyWGCNA\n",
    "\n",
    "distances = pdist(mrna_count_filtered.T, metric='correlation')\n",
    "dendrogram = linkage(distances, method=method)"
   ]
  }
 ],
 "metadata": {
  "kernelspec": {
   "display_name": "WGCNA_test1",
   "language": "python",
   "name": "python3"
  },
  "language_info": {
   "codemirror_mode": {
    "name": "ipython",
    "version": 3
   },
   "file_extension": ".py",
   "mimetype": "text/x-python",
   "name": "python",
   "nbconvert_exporter": "python",
   "pygments_lexer": "ipython3",
   "version": "3.11.7"
  }
 },
 "nbformat": 4,
 "nbformat_minor": 2
}
