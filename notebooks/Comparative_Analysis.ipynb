{
 "cells": [
  {
   "cell_type": "code",
   "execution_count": null,
   "metadata": {},
   "outputs": [],
   "source": [
    "import pandas as pd\n",
    "import numpy as np\n",
    "import os\n",
    "\n",
    "import matplotlib.pyplot as plt\n",
    "from matplotlib_venn import venn3"
   ]
  },
  {
   "cell_type": "code",
   "execution_count": null,
   "metadata": {},
   "outputs": [],
   "source": [
    "# Move out of the notebook folder to access datasets\n",
    "working_dir = os.getcwd()\n",
    "working_dir = working_dir.strip('notebooks')\n",
    "data_dir = working_dir + 'results/ComparativeAnalysis/'\n",
    "\n",
    "\n",
    "## Load the datasets with the Modules for each method\n",
    "hc_modules_dir = data_dir + 'TumorModulesExP_HC.csv'\n",
    "wgcna_modules_dir = data_dir + 'TumorModulesExP_WGCNA.csv'\n",
    "gcnn_MSI_modules_dir = data_dir + 'MSIStatusModulesExP_GCNN.csv'\n",
    "gcnn_CMS_modules_dir = data_dir + 'CMSTumorModulesExP_GCNN.csv'\n",
    "gcnn_TS_modules_dir = data_dir + 'TumorSiteModulesExP_GCNN.csv'\n",
    "gcnn_gender_modules_dir = data_dir + 'GenderModulesExP_GCNN.csv'\n",
    "\n",
    "\n",
    "hc_modules = pd.read_csv(hc_modules_dir, index_col=0)\n",
    "wgcna_modules = pd.read_csv(wgcna_modules_dir, index_col=0)\n",
    "gcnn_MSI_modules = pd.read_csv(gcnn_MSI_modules_dir, index_col=0)\n",
    "gcnn_CMS_modules = pd.read_csv(gcnn_CMS_modules_dir, index_col=0)\n",
    "gcnn_TS_modules = pd.read_csv(gcnn_TS_modules_dir, index_col=0)\n",
    "gcnn_gender_modules = pd.read_csv(gcnn_gender_modules_dir, index_col=0)"
   ]
  },
  {
   "cell_type": "markdown",
   "metadata": {},
   "source": [
    "We need to manually select what modules from HC and WGCNA are the relevant ones for MSI, CMS and Tumour Site. We do this with visual inspection of the Heatmaps:\n",
    "\n",
    " - MSI:\n",
    "    - HC --> Module 50 and module 31 \n",
    "    - WGCNA --> Module 109, module 82, module 55, module 30, module 24, module 18 and module 12\n",
    "\n",
    " - CMS:\n",
    "    - HC --> Module 50 and module 31 (not over threshold of interest - coefficients>0.45) \n",
    "    - WGCNA --> Module 109, module 88, module 81, module 42, module 24 and module 18\n",
    "\n",
    " - Tumour Site:\n",
    "    - HC --> Module 20\n",
    "    - WGCNA --> Module 30 and module 57 (not over threshold of interest - coefficients>0.45) \n",
    "\n",
    " - Gender (misslabeled):\n",
    "    - HC --> Module 12\n",
    "    - WGCNA --> Module 58"
   ]
  },
  {
   "cell_type": "code",
   "execution_count": null,
   "metadata": {},
   "outputs": [],
   "source": [
    "# Check that it has the correct dimensions\n",
    "\n",
    "print(f\"Shape of HC Modules: {hc_modules.shape}\")\n",
    "print(f\"Shape of WGCNA Modules: {wgcna_modules.shape}\")\n",
    "print(f\"Shape of GCNN MSI Modules: {gcnn_MSI_modules.shape}\")\n",
    "print(f\"Shape of GCNN CMS Modules: {gcnn_CMS_modules.shape}\")\n",
    "print(f\"Shape of GCNN Tumor Site Modules: {gcnn_TS_modules.shape}\")\n",
    "print(f\"Shape of GCNN Gender Modules: {gcnn_gender_modules.shape}\")"
   ]
  },
  {
   "cell_type": "markdown",
   "metadata": {},
   "source": [
    "## Gender Analysis\n",
    "\n",
    " - Gender (misslabeled):\n",
    "    - HC --> Module 12\n",
    "    - WGCNA --> Module 58"
   ]
  },
  {
   "cell_type": "code",
   "execution_count": null,
   "metadata": {},
   "outputs": [],
   "source": [
    "# Extract the modules of interest from HC and WGCNA\n",
    "hc_modules_gender = hc_modules[hc_modules['Module'] == 12]\n",
    "wgcna_modules_gender = wgcna_modules[wgcna_modules['Module'] == 58]\n",
    "\n",
    "# Extract the names of the Genes from all 3 modules\n",
    "hc_gender_gene_names = set(hc_modules_gender['Gene Name'])\n",
    "wgcna_gender_gene_names = set(wgcna_modules_gender['Gene Name'])\n",
    "gcnn_gender_gene_names = set(gcnn_gender_modules['Gene Name'])\n",
    "\n",
    "# Create the Venn diagram\n",
    "plt.figure(figsize=(15, 5))\n",
    "venn3([hc_gender_gene_names, wgcna_gender_gene_names, gcnn_gender_gene_names], ('HC Genes', 'WGCNA Genes', 'GCNN Genes'))\n",
    "\n",
    "# Display the Venn diagram\n",
    "plt.title(\"Venn Diagram of Sex's Module Overlap across Methods\")\n",
    "plt.show()"
   ]
  },
  {
   "cell_type": "markdown",
   "metadata": {},
   "source": [
    "## MSI Status Analysis\n",
    "\n",
    " - MSI:\n",
    "    - HC --> Module 50 and module 31 \n",
    "    - WGCNA --> Module 109, module 82, module 55, module 30, module 24, module 18 and module 12"
   ]
  },
  {
   "cell_type": "code",
   "execution_count": null,
   "metadata": {},
   "outputs": [],
   "source": [
    "# Extract the modules of interest from HC and WGCNA\n",
    "hc_modules_MSI = hc_modules[hc_modules['Module'].isin([50, 31])]\n",
    "wgcna_modules_MSI = wgcna_modules[wgcna_modules['Module'].isin([55, 24, 18, 12])]\n",
    "\n",
    "# Extract the names of the Genes from all 3 modules\n",
    "hc_MSI_gene_names = set(hc_modules_MSI['Gene Name'])\n",
    "wgcna_MSI_gene_names = set(wgcna_modules_MSI['Gene Name'])\n",
    "gcnn_MSI_gene_names = set(gcnn_MSI_modules['Gene Name'])\n",
    "\n",
    "# Create the Venn diagram\n",
    "plt.figure(figsize=(15, 5))\n",
    "venn3([hc_MSI_gene_names, wgcna_MSI_gene_names, gcnn_MSI_gene_names], ('HC Genes', 'WGCNA Genes', 'GCNN Genes'))\n",
    "\n",
    "# Display the Venn diagram\n",
    "plt.title(\"Venn Diagram of Module overlap across Methods, for MSI Status\")\n",
    "plt.show()"
   ]
  },
  {
   "cell_type": "markdown",
   "metadata": {},
   "source": [
    "## CMS Tumour\n",
    "\n",
    " - CMS:\n",
    "    - HC --> Module 50 and module 31 (not over threshold of interest - coefficients>0.45) \n",
    "    - WGCNA --> Module 109, module 88, module 81, module 42, module 24 and module 18"
   ]
  },
  {
   "cell_type": "code",
   "execution_count": null,
   "metadata": {},
   "outputs": [],
   "source": [
    "# Extract the modules of interest from HC and WGCNA\n",
    "hc_modules_CMS = hc_modules[hc_modules['Module'].isin([50, 31])]\n",
    "wgcna_modules_CMS = wgcna_modules[wgcna_modules['Module'].isin([109, 88, 81, 42, 24, 18])]\n",
    "\n",
    "# Extract the names of the Genes from all 3 modules\n",
    "hc_CMS_gene_names = set(hc_modules_CMS['Gene Name'])\n",
    "wgcna_CMS_gene_names = set(wgcna_modules_CMS['Gene Name'])\n",
    "gcnn_CMS_gene_names = set(gcnn_CMS_modules['Gene Name'])\n",
    "\n",
    "# Create the Venn diagram\n",
    "plt.figure(figsize=(5, 3))\n",
    "venn3([hc_CMS_gene_names, wgcna_CMS_gene_names, gcnn_CMS_gene_names], ('HC Genes', 'WGCNA Genes', 'GCNN Genes'))\n",
    "\n",
    "# Display the Venn diagram\n",
    "plt.title(\"Venn Diagram of Module overlap across Methods, for CMS Tumour\")\n",
    "plt.show()"
   ]
  },
  {
   "cell_type": "markdown",
   "metadata": {},
   "source": [
    "## Tumour Site\n",
    "\n",
    " - Tumour Site:\n",
    "    - HC --> Module 20\n",
    "    - WGCNA --> Module 30 and module 57 (not over threshold of interest - coefficients>0.45) "
   ]
  },
  {
   "cell_type": "code",
   "execution_count": null,
   "metadata": {},
   "outputs": [],
   "source": [
    "# Extract the modules of interest from HC and WGCNA\n",
    "hc_modules_TS = hc_modules[hc_modules['Module'].isin([20])]\n",
    "wgcna_modules_TS = wgcna_modules[wgcna_modules['Module'].isin([30, 57])]\n",
    "\n",
    "# Extract the names of the Genes from all 3 modules\n",
    "hc_TS_gene_names = set(hc_modules_TS['Gene Name'])\n",
    "wgcna_TS_gene_names = set(wgcna_modules_TS['Gene Name'])\n",
    "gcnn_TS_gene_names = set(gcnn_TS_modules['Gene Name'])\n",
    "\n",
    "# Create the Venn diagram\n",
    "plt.figure(figsize=(5, 3))\n",
    "venn3([hc_TS_gene_names, wgcna_TS_gene_names, gcnn_TS_gene_names], ('HC Genes', 'WGCNA Genes', 'GCNN Genes'))\n",
    "\n",
    "# Display the Venn diagram\n",
    "plt.title(\"Venn Diagram of Module overlap across Methods, for Tumour Site\")\n",
    "plt.show()"
   ]
  },
  {
   "cell_type": "markdown",
   "metadata": {},
   "source": [
    "# Check location of genes"
   ]
  },
  {
   "cell_type": "code",
   "execution_count": null,
   "metadata": {},
   "outputs": [],
   "source": [
    "from Bio import Entrez\n",
    "import time\n",
    "\n",
    "Entrez.email = \"bxz1999@gmail.com\"\n",
    "\n",
    "def fetch_chromosome_location(gene_name):\n",
    "    try:\n",
    "        # Search for the gene in NCBI gene database specific to Homo sapiens (human)\n",
    "        search_handle = Entrez.esearch(db=\"gene\", term=f\"{gene_name}[Gene] AND Homo sapiens[Organism]\")\n",
    "        search_results = Entrez.read(search_handle)\n",
    "        search_handle.close()\n",
    "\n",
    "        if search_results[\"IdList\"]:\n",
    "            gene_id = search_results[\"IdList\"][0]\n",
    "            \n",
    "            # Fetch the gene summary using the gene ID\n",
    "            summary_handle = Entrez.esummary(db=\"gene\", id=gene_id)\n",
    "            summary = Entrez.read(summary_handle)\n",
    "            summary_handle.close()\n",
    "\n",
    "            if summary[\"DocumentSummarySet\"][\"DocumentSummary\"]:\n",
    "                gene_summary = summary[\"DocumentSummarySet\"][\"DocumentSummary\"][0]\n",
    "                chromosome = gene_summary.get(\"Chromosome\", \"Unknown\")\n",
    "                return chromosome\n",
    "        return \"Unknown\"\n",
    "    except Exception as e:\n",
    "        print(f\"Error fetching data for gene {gene_name}: {e}\")\n",
    "        return \"Error\"\n",
    "\n",
    "\n",
    "\n",
    "\n",
    "gene_names = 'ARAF, ARSD, ARSE, ASB9, BCLAF3, CCDC22, CCDC120, CDK16, COX7B, CXorf38, DLG3, ELK1, FAAH2, FAM104B, GEMIN8, GPKOW, GRIPAP1, HCCS, HDAC6, KDM5C, KDM6A, KRBOX4, MED12, MED14, MID1, MID1IP1, MSL3, NDUFA1, NDUFB11, OFD1, OTUD5, PDHA1, PDK3, PHF8, PHKA1, PHKA2, PLP2, PNPLA4, PQBP1, PRICKLE3, PRKX, PUDP, RAB9A, RBM10, RNF128, RPS6KA3, RRAGB, SLC25A5, SMC1A, SYAP1, TAB3, TBC1D25, TCEANC, TIMM17B, TMSB4X, TRAPPC2, UBA1, USP9X, UXT, WDR13, WDR45, ZFX, ZMYM3, ZNF41, ZNF81, ZNF182, ZNF449, ZNF630, ZNF674, ZRSR2, ZXDA, ZXDB'\n",
    "gene_names = gene_names.replace(\",\", \"\").split()\n",
    "\n",
    "a = 0\n",
    "for gene_name in gene_names:\n",
    "    a = a+1\n",
    "    chromosome = fetch_chromosome_location(gene_name)\n",
    "    print(f\"Gene: {gene_name}, Chromosome: {chromosome}\")\n",
    "    time.sleep(0.2)\n",
    "\n",
    "print(a)"
   ]
  }
 ],
 "metadata": {
  "kernelspec": {
   "display_name": "apostro",
   "language": "python",
   "name": "python3"
  },
  "language_info": {
   "codemirror_mode": {
    "name": "ipython",
    "version": 3
   },
   "file_extension": ".py",
   "mimetype": "text/x-python",
   "name": "python",
   "nbconvert_exporter": "python",
   "pygments_lexer": "ipython3",
   "version": "3.9.19"
  }
 },
 "nbformat": 4,
 "nbformat_minor": 2
}
