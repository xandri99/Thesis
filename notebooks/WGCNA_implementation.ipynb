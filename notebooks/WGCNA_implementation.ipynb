{
  "cells": [
    {
      "cell_type": "code",
      "execution_count": null,
      "metadata": {
        "id": "YtmZscu9veQL"
      },
      "outputs": [],
      "source": [
        "# IMPORTS\n",
        "import PyWGCNA\n",
        "import pandas as pd\n",
        "import matplotlib.pyplot as plt\n",
        "import seaborn as sns\n",
        "import numpy as np\n",
        "import os"
      ]
    },
    {
      "cell_type": "code",
      "execution_count": null,
      "metadata": {
        "colab": {
          "base_uri": "https://localhost:8080/"
        },
        "id": "K8YLA9guwVaa",
        "outputId": "7495f37b-bc22-459e-cd63-6096bd89af25"
      },
      "outputs": [],
      "source": [
        "## Move out of the notebook folder to access datasets\n",
        "working_dir = os.getcwd()\n",
        "working_dir = working_dir.strip('notebooks')\n",
        "\n",
        "\n",
        "## Load the dataset\n",
        "geneExpression = working_dir + 'data/5xFAD_paper/expressionList.csv'\n",
        "dataset = pd.read_csv(geneExpression)\n",
        "\n",
        "## Make a subset to save RAM\n",
        "subset_dataset_size = 1000\n",
        "dataset = dataset.iloc[:, :subset_dataset_size] \n",
        "susbsetFile = working_dir + 'data/5xFAD_paper/expressionListSubset.csv' \n",
        "dataset.to_csv(susbsetFile, sep=',', index=False, encoding='utf-8') \n",
        "\n",
        "## Load the subset\n",
        "geneExpressionsubset = working_dir + 'data/5xFAD_paper/expressionListSubset.csv'\n"
      ]
    },
    {
      "cell_type": "code",
      "execution_count": null,
      "metadata": {},
      "outputs": [],
      "source": [
        "### LOADING REAL UNPUBLISHED DATA    -     NO PUSHING FOR THE RESULTS\n",
        "\n",
        "## Move out of the notebook folder to access datasets\n",
        "working_dir = os.getcwd()\n",
        "working_dir = working_dir.strip('notebooks')\n",
        "\n",
        "# Prepare all the files for loading\n",
        "data_dir = working_dir + 'data/PROTECTED_DATA/BGI_Expression_Data/'\n",
        "mrna_count = data_dir + 'CRC.SW.mRNA.symbol.count.csv'\n",
        "sample_info_selection = data_dir + 'Sample_Info_Selection.csv'"
      ]
    },
    {
      "cell_type": "markdown",
      "metadata": {},
      "source": [
        "IMPORTANT!!!!!!!!!!!!!!1\n",
        "There is 20 more samples in the dataset than in the excel. This is caused by pacients where two samples were taken (healthy and cancer tissue), that in the excel are displayed as one single sample. \n",
        "\n",
        "As far as i understand, this pacients got two samples taken from the colon, but since the Transcriptomics data is from blood plasma, this 120 extra samples are not relevant for our analysis in Transcriptomics, since they would be the same samples."
      ]
    },
    {
      "cell_type": "code",
      "execution_count": null,
      "metadata": {},
      "outputs": [],
      "source": [
        "figures_dir = working_dir + 'results/WGCNA_'  # weird folder formatting, needs to be like this.\n",
        "\n",
        "## Initialize the WGCNA with the dataset\n",
        "pyWGCNA_model = PyWGCNA.WGCNA(name='5xFAD',\n",
        "                              species='mus musculus',\n",
        "                              geneExpPath=mrna_count,\n",
        "                              outputPath=figures_dir,\n",
        "                              save=True,\n",
        "                              networkType=\"unsigned\",\n",
        "                              powers = None)\n"
      ]
    },
    {
      "cell_type": "code",
      "execution_count": null,
      "metadata": {
        "colab": {
          "base_uri": "https://localhost:8080/",
          "height": 629
        },
        "id": "rnWMkj4UwYmT",
        "outputId": "abc5302e-b905-4539-956d-3ca6bda58481"
      },
      "outputs": [],
      "source": [
        "pyWGCNA_model.preprocess(show = True)"
      ]
    },
    {
      "cell_type": "code",
      "execution_count": null,
      "metadata": {
        "colab": {
          "base_uri": "https://localhost:8080/",
          "height": 1000
        },
        "id": "Z4JJ3EMHwYsD",
        "outputId": "d91039fd-a97a-4f6e-cb24-7b8972769235"
      },
      "outputs": [],
      "source": [
        "pyWGCNA_model.findModules()\n",
        "# pyWGCNA_5xFAD.findModules(blockSize=1500, moreNetworkConcepts = True) # For some reason these don't work. Make the powerVector crash or block size goes into wrong functions"
      ]
    },
    {
      "cell_type": "code",
      "execution_count": null,
      "metadata": {
        "id": "jhTAo4vcnphA"
      },
      "outputs": [],
      "source": [
        "pyWGCNA_model.updateSampleInfo(path=sample_info_selection, sep=',')\n",
        "\n",
        "# add color for metadata\n",
        "pyWGCNA_model.setMetadataColor('Gender', {'Female': 'green',\n",
        "                                       'Male': 'yellow'})\n",
        "pyWGCNA_model.setMetadataColor('Primary Site Disease', {'Rectum': 'darkviolet',\n",
        "                                                        'Colon': 'deeppink'})\n",
        "pyWGCNA_model.setMetadataColor('Histology Subtype', {'Adenocarcinoma': 'thistle',\n",
        "                                                    'Mucinous Adenocarcinoma': 'plum'})\n",
        "pyWGCNA_model.setMetadataColor('Tumour Stage', {'Stage IV': 'red',\n",
        "                                          'Stage III': 'orange',\n",
        "                                          'Stage II': 'yellow',\n",
        "                                          'Stage I': 'green'})"
      ]
    },
    {
      "cell_type": "code",
      "execution_count": null,
      "metadata": {
        "id": "qOXUteQSnz2-"
      },
      "outputs": [],
      "source": [
        "# Automatic dataset builder from biomart.\n",
        "'''\n",
        "geneList = PyWGCNA.getGeneList(dataset='mmusculus_gene_ensembl',\n",
        "                               attributes=['ensembl_gene_id',\n",
        "                                           'external_gene_name',\n",
        "                                           'gene_biotype'],\n",
        "                               maps=['gene_id', 'gene_name', 'gene_biotype'],\n",
        "                               server_domain=\"http://ensembl.org/biomart\")\n",
        "'''\n",
        "\n",
        "# We already have the file, so we just load it from the file\n",
        "gene_list_path = working_dir + 'data/5xFAD_paper/geneList'\n",
        "pyWGCNA_5xFAD.updateGeneInfo(path=gene_list_path, sep = ' ')\n"
      ]
    },
    {
      "cell_type": "markdown",
      "metadata": {
        "id": "KI2E_Usj9Oj-"
      },
      "source": [
        "Some visualizations"
      ]
    },
    {
      "cell_type": "code",
      "execution_count": null,
      "metadata": {
        "colab": {
          "base_uri": "https://localhost:8080/"
        },
        "id": "8-iAUo2g53JC",
        "outputId": "11221bb6-0f3e-4ba4-a88c-6f090f0f34ad"
      },
      "outputs": [],
      "source": [
        "pyWGCNA_model.datExpr\n",
        "\n",
        "#pyWGCNA_5xFAD.datExpr.obs.head(5)"
      ]
    },
    {
      "cell_type": "code",
      "execution_count": null,
      "metadata": {
        "colab": {
          "base_uri": "https://localhost:8080/",
          "height": 245
        },
        "id": "BOAOBnZl_yk2",
        "outputId": "858c8761-ee33-44bb-b237-e7b603e86677"
      },
      "outputs": [],
      "source": [
        "# Plotting the adjacency matrix as heatmap\n",
        "plt.figure()\n",
        "sns.heatmap(pyWGCNA_model.adjacency, cmap='hot')\n",
        "plt.title(\"Heatmap of the adjacency matrix\")\n",
        "plt.savefig(working_dir + 'results/WGCNA_figures/' + \"Heatmap of the adjacency matrix\", dpi=1000)\n",
        "plt.show()\n"
      ]
    },
    {
      "cell_type": "code",
      "execution_count": null,
      "metadata": {
        "colab": {
          "base_uri": "https://localhost:8080/",
          "height": 1000
        },
        "id": "Rcfoq2k84pj_",
        "outputId": "61607a44-38ab-4278-b354-5148bad482f3"
      },
      "outputs": [],
      "source": [
        "pyWGCNA_model.analyseWGCNA()"
      ]
    },
    {
      "cell_type": "code",
      "execution_count": null,
      "metadata": {
        "colab": {
          "base_uri": "https://localhost:8080/",
          "height": 1000
        },
        "id": "6cyhY9UW8nUe",
        "outputId": "9fa506f8-077d-4520-a8eb-bd31eae50a09"
      },
      "outputs": [],
      "source": [
        "pyWGCNA_model.top_n_hub_genes(moduleName=\"silver\", n=50)\n"
      ]
    }
  ],
  "metadata": {
    "colab": {
      "provenance": []
    },
    "kernelspec": {
      "display_name": "Python 3",
      "name": "python3"
    },
    "language_info": {
      "codemirror_mode": {
        "name": "ipython",
        "version": 3
      },
      "file_extension": ".py",
      "mimetype": "text/x-python",
      "name": "python",
      "nbconvert_exporter": "python",
      "pygments_lexer": "ipython3",
      "version": "3.11.7"
    }
  },
  "nbformat": 4,
  "nbformat_minor": 0
}
